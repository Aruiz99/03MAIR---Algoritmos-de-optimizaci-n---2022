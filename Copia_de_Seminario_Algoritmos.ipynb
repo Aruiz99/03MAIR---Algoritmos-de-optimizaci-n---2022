{
  "nbformat": 4,
  "nbformat_minor": 0,
  "metadata": {
    "colab": {
      "provenance": [],
      "include_colab_link": true
    },
    "kernelspec": {
      "name": "python3",
      "display_name": "Python 3"
    }
  },
  "cells": [
    {
      "cell_type": "markdown",
      "metadata": {
        "id": "view-in-github",
        "colab_type": "text"
      },
      "source": [
        "<a href=\"https://colab.research.google.com/github/Aruiz99/03MAIR---Algoritmos-de-optimizacion---2022/blob/main/Copia_de_Seminario_Algoritmos.ipynb\" target=\"_parent\"><img src=\"https://colab.research.google.com/assets/colab-badge.svg\" alt=\"Open In Colab\"/></a>"
      ]
    },
    {
      "cell_type": "markdown",
      "metadata": {
        "id": "hVbXYX-RfPWh"
      },
      "source": [
        "# Algoritmos de optimización - Seminario<br>\n",
        "Nombre y Apellidos:   <br>\n",
        "Url: https://github.com/Aruiz99/03MAIR---Algoritmos-de-optimizacion---2022/blob/main/Seminario_Algoritmos.ipynb/<br>\n",
        "Problema:\n",
        "> 1. Sesiones de doblaje <br>\n",
        "\n",
        "Descripción del problema:\n",
        "\n",
        "Se precisa coordinar el doblaje de una película. Los actores del doblaje deben coincidir en las \n",
        "tomas en las que sus personajes aparecen juntos en las diferentes tomas. Los actores de \n",
        "doblaje cobran todos la misma cantidad por cada día que deben desplazarse hasta el estudio de \n",
        "grabación independientemente del número de tomas que se graben. No es posible grabar más \n",
        "de 6 tomas por día. El objetivo es planificar las sesiones por día de manera que el gasto por los \n",
        "servicios de los actores de doblaje sea el menor posible.\n",
        "\n",
        "(*) La respuesta es obligatoria\n",
        "\n",
        "\n",
        "\n",
        "\n",
        "\n",
        "                                        "
      ]
    },
    {
      "cell_type": "code",
      "metadata": {
        "id": "AiskKkzZfy4e",
        "colab": {
          "base_uri": "https://localhost:8080/"
        },
        "outputId": "0c3feb95-2306-41ac-d819-86436f124236"
      },
      "source": [
        "import numpy as np\n",
        "\n",
        "numbers = list('123456789')\n",
        "np.random.shuffle(numbers)\n",
        "print(numbers)"
      ],
      "execution_count": null,
      "outputs": [
        {
          "output_type": "stream",
          "name": "stdout",
          "text": [
            "['3', '9', '6', '4', '8', '7', '1', '2', '5']\n"
          ]
        }
      ]
    },
    {
      "cell_type": "markdown",
      "metadata": {
        "id": "3_-exlrTgLd-"
      },
      "source": [
        "(*)¿Cuantas posibilidades hay sin tener en cuenta las restricciones?<br>\n",
        "\n",
        "\n",
        "\n",
        "¿Cuantas posibilidades hay teniendo en cuenta todas las restricciones.\n",
        "\n",
        "\n"
      ]
    },
    {
      "cell_type": "markdown",
      "metadata": {
        "id": "WfCUqJyKhPcw"
      },
      "source": [
        "Respuesta"
      ]
    },
    {
      "cell_type": "code",
      "metadata": {
        "id": "iq6Fe32MgpDX"
      },
      "source": [],
      "execution_count": null,
      "outputs": []
    },
    {
      "cell_type": "markdown",
      "metadata": {
        "id": "dzynfVJahHoY"
      },
      "source": [
        "Modelo para el espacio de soluciones<br>\n",
        "(*) ¿Cual es la estructura de datos que mejor se adapta al problema? Argumentalo.(Es posible que hayas elegido una al principio y veas la necesidad de cambiar, arguentalo)\n"
      ]
    },
    {
      "cell_type": "markdown",
      "metadata": {
        "id": "xFIJrOwKi2Ti"
      },
      "source": [
        "Respuesta"
      ]
    },
    {
      "cell_type": "code",
      "metadata": {
        "id": "38c-7-ejhJmA"
      },
      "source": [],
      "execution_count": null,
      "outputs": []
    },
    {
      "cell_type": "markdown",
      "metadata": {
        "id": "7Z9U2W7bi-XS"
      },
      "source": [
        "Según el modelo para el espacio de soluciones<br>\n",
        "(*)¿Cual es la función objetivo?\n",
        "\n",
        "(*)¿Es un problema de maximización o minimización?"
      ]
    },
    {
      "cell_type": "markdown",
      "metadata": {
        "id": "hBalWLM7j1_d"
      },
      "source": [
        "Respuesta"
      ]
    },
    {
      "cell_type": "code",
      "metadata": {
        "id": "pDA-rg3Gj5Lz"
      },
      "source": [],
      "execution_count": null,
      "outputs": []
    },
    {
      "cell_type": "markdown",
      "metadata": {
        "id": "rlnTYgY1j6I2"
      },
      "source": [
        "Diseña un algoritmo para resolver el problema por fuerza bruta"
      ]
    },
    {
      "cell_type": "markdown",
      "metadata": {
        "id": "70rDgxYXkC8r"
      },
      "source": [
        "Respuesta"
      ]
    },
    {
      "cell_type": "code",
      "metadata": {
        "id": "CJb5sQ0qkENy"
      },
      "source": [
        "numbers = '123456789'\n",
        "operations = '+-*/'\n",
        "\n",
        "mayor, menor = 0, 0\n",
        "n = 77.0\n",
        "valores_procesados = []\n",
        "for n0 in numbers:\n",
        "  numbers0 = numbers.replace(n0, \"\")\n",
        "  for n1 in numbers0:\n",
        "    numbers1 = numbers0.replace(n1, \"\")\n",
        "    for n2 in numbers1:\n",
        "      numbers2 = numbers1.replace(n2, \"\")\n",
        "      for n3 in numbers2:\n",
        "        numbers3 = numbers2.replace(n3, \"\")\n",
        "        for n4 in numbers3:\n",
        "          for o0 in operations:\n",
        "            operations0 = operations.replace(o0, \"\")\n",
        "            for o1 in operations0:\n",
        "              operations1 = operations0.replace(o1, \"\")\n",
        "              for o2 in operations1:\n",
        "                operations2 = operations1.replace(o2, \"\")\n",
        "                for o3 in operations2:\n",
        "                  expresion = n0+o0+n1+o1+n2+o2+n3+o3+n4\n",
        "                  sol = eval(expresion)\n",
        "                  if sol.is_integer():\n",
        "                    if sol == n:\n",
        "                      print(expresion) \n",
        "                    if sol > mayor:\n",
        "                      mayor = sol\n",
        "                      # print(mayor, menor)\n",
        "                    if sol < menor:\n",
        "                      menor = sol\n",
        "                      # print(mayor, menor)\n",
        "print(mayor, menor)"
      ],
      "execution_count": null,
      "outputs": []
    },
    {
      "cell_type": "markdown",
      "metadata": {
        "id": "tgrnsC2nkFa8"
      },
      "source": [
        "Calcula la complejidad del algoritmo por fuerza bruta"
      ]
    },
    {
      "cell_type": "markdown",
      "metadata": {
        "id": "9eUd3xwckP68"
      },
      "source": [
        "Respuesta"
      ]
    },
    {
      "cell_type": "code",
      "metadata": {
        "id": "rvZWwL-ckRST"
      },
      "source": [],
      "execution_count": null,
      "outputs": []
    },
    {
      "cell_type": "markdown",
      "metadata": {
        "id": "txbrmLmskReM"
      },
      "source": [
        "(*)Diseña un algoritmo que mejore la complejidad del algortimo por fuerza bruta. Argumenta porque crees que mejora el algoritmo por fuerza bruta"
      ]
    },
    {
      "cell_type": "markdown",
      "metadata": {
        "id": "hLrVwt5QkZPD"
      },
      "source": [
        "Respuesta"
      ]
    },
    {
      "cell_type": "code",
      "metadata": {
        "id": "m1eyM21Vkabg",
        "colab": {
          "base_uri": "https://localhost:8080/",
          "height": 360
        },
        "outputId": "0cedefa6-bc00-4375-bfec-67e1f84027db"
      },
      "source": [
        "import random\n",
        "\n",
        "def buscar_operacion(resultado_deseado):\n",
        "    poblacion_inicial = generar_poblacion_inicial(50, [1, 2, 3, 4, 5, 6, 7, 8, 9], ['+', '-', '*', '/'])\n",
        "    poblacion = poblacion_inicial\n",
        "    for generacion in range(100):\n",
        "        poblacion = seleccionar_poblacion(poblacion, resultado_deseado)\n",
        "        poblacion = cruzar_poblacion(poblacion, 0.8)\n",
        "        poblacion = mutar_poblacion(poblacion, 0.1, [1, 2, 3, 4, 5, 6, 7, 8, 9], ['+', '-', '*', '/'])\n",
        "    return eval(mejor_individuo(poblacion))\n",
        "\n",
        "def generar_poblacion_inicial(num_individuos, cifras, operadores):\n",
        "    poblacion = []\n",
        "    for i in range(num_individuos):\n",
        "        individuo = ''\n",
        "        for j in range(3):\n",
        "            individuo += str(random.choice(cifras)) + random.choice(operadores)\n",
        "        individuo += str(random.choice(cifras))\n",
        "        poblacion.append(individuo)\n",
        "    return poblacion\n",
        "\n",
        "def seleccionar_poblacion(poblacion, resultado_deseado):\n",
        "    puntuaciones = [(individuo, abs(eval(individuo) - resultado_deseado)) for individuo in poblacion]\n",
        "    puntuaciones.sort(key=lambda x: x[1])\n",
        "    seleccionados = [puntuaciones[i][0] for i in range(len(poblacion)//2)]\n",
        "    return seleccionados\n",
        "\n",
        "def cruzar_poblacion(poblacion, probabilidad_cruce):\n",
        "    nuevos_individuos = []\n",
        "    for i in range(len(poblacion)//2):\n",
        "        if random.random() < probabilidad_cruce:\n",
        "            padre = poblacion[i]\n",
        "            madre = poblacion[len(poblacion)//2 + i]\n",
        "            punto_cruce = random.randint(1, len(padre)-2)\n",
        "            hijo1 = padre[:punto_cruce] + madre[punto_cruce:]\n",
        "            hijo2 = madre[:punto_cruce] + padre[punto_cruce:]\n",
        "            nuevos_individuos.extend([hijo1, hijo2])\n",
        "        else:\n",
        "            nuevos_individuos.extend([poblacion[i], poblacion[len(poblacion)//2 + i]])\n",
        "    return nuevos_individuos\n",
        "\n",
        "def mutar_poblacion(poblacion, probabilidad_mutacion, cifras, operadores):\n",
        "    nuevos_individuos = []\n",
        "    for individuo in poblacion:\n",
        "        if random.random() < probabilidad_mutacion:\n",
        "            indice = random.randint(0, len(individuo)-1)\n",
        "            if individuo[indice] in cifras:\n",
        "                nuevo_valor = str(random.choice(cifras))\n",
        "            else:\n",
        "                nuevo_valor = random.choice(operadores)\n",
        "            nuevo_individuo = individuo[:indice] + nuevo_valor + individuo[indice+1:]\n",
        "            nuevos_individuos.append(nuevo_individuo)\n",
        "        else:\n",
        "            nuevos_individuos.append(individuo)\n",
        "    return nuevos_individuos\n",
        "\n",
        "def mejor_individuo(poblacion):\n",
        "    puntuaciones = [(individuo, eval(individuo)) for individuo in poblacion]\n",
        "    puntuaciones.sort(key=lambda x: abs(x[1]))\n",
        "    return puntuaciones[0][0]\n",
        "\n",
        "resultado_deseado = 10.0\n",
        "# poblacion_inicial = generar_poblacion_inicial(50, [1, 2, 3, 4, 5, 6, 7, 8, 9], ['+', '-', '*', '/'])\n",
        "# puntuaciones = [(individuo, abs(eval(individuo) - resultado_deseado)) for individuo in poblacion_inicial]\n",
        "# puntuaciones.sort(key=lambda x: x[1])\n",
        "# seleccionados = [puntuaciones[i][0] for i in range(len(poblacion_inicial)//2)]\n",
        "# print(puntuaciones)\n",
        "print(buscar_operacion(resultado_deseado))"
      ],
      "execution_count": null,
      "outputs": [
        {
          "output_type": "error",
          "ename": "SyntaxError",
          "evalue": "ignored",
          "traceback": [
            "Traceback \u001b[0;36m(most recent call last)\u001b[0m:\n",
            "  File \u001b[1;32m\"/usr/local/lib/python3.8/dist-packages/IPython/core/interactiveshell.py\"\u001b[0m, line \u001b[1;32m3326\u001b[0m, in \u001b[1;35mrun_code\u001b[0m\n    exec(code_obj, self.user_global_ns, self.user_ns)\n",
            "  File \u001b[1;32m\"<ipython-input-18-e1cc40a1acb0>\"\u001b[0m, line \u001b[1;32m68\u001b[0m, in \u001b[1;35m<module>\u001b[0m\n    print(buscar_operacion(resultado_deseado))\n",
            "  File \u001b[1;32m\"<ipython-input-18-e1cc40a1acb0>\"\u001b[0m, line \u001b[1;32m7\u001b[0m, in \u001b[1;35mbuscar_operacion\u001b[0m\n    poblacion = seleccionar_poblacion(poblacion, resultado_deseado)\n",
            "  File \u001b[1;32m\"<ipython-input-18-e1cc40a1acb0>\"\u001b[0m, line \u001b[1;32m23\u001b[0m, in \u001b[1;35mseleccionar_poblacion\u001b[0m\n    puntuaciones = [(individuo, abs(eval(individuo) - resultado_deseado)) for individuo in poblacion]\n",
            "\u001b[0;36m  File \u001b[0;32m\"<ipython-input-18-e1cc40a1acb0>\"\u001b[0;36m, line \u001b[0;32m23\u001b[0;36m, in \u001b[0;35m<listcomp>\u001b[0;36m\u001b[0m\n\u001b[0;31m    puntuaciones = [(individuo, abs(eval(individuo) - resultado_deseado)) for individuo in poblacion]\u001b[0m\n",
            "\u001b[0;36m  File \u001b[0;32m\"<string>\"\u001b[0;36m, line \u001b[0;32m1\u001b[0m\n\u001b[0;31m    +*2-1*1\u001b[0m\n\u001b[0m     ^\u001b[0m\n\u001b[0;31mSyntaxError\u001b[0m\u001b[0;31m:\u001b[0m invalid syntax\n"
          ]
        }
      ]
    },
    {
      "cell_type": "markdown",
      "metadata": {
        "id": "eGDB4K6uk1iN"
      },
      "source": [
        "(*)Calcula la complejidad del algoritmo "
      ]
    },
    {
      "cell_type": "markdown",
      "metadata": {
        "id": "NhpTh_BPk1ms"
      },
      "source": [
        "Respuesta"
      ]
    },
    {
      "cell_type": "code",
      "metadata": {
        "id": "nREzhkStlCq8",
        "colab": {
          "base_uri": "https://localhost:8080/"
        },
        "outputId": "d497e6bd-6ebc-4df3-d789-b69f74349edc"
      },
      "source": [
        "if eval('9*8+7-5/6').is_integer():\n",
        "    print(\"El número es entero.\")\n",
        "print(eval('6/7-9*8+1'))"
      ],
      "execution_count": null,
      "outputs": [
        {
          "output_type": "stream",
          "name": "stdout",
          "text": [
            "-70.14285714285714\n"
          ]
        }
      ]
    },
    {
      "cell_type": "markdown",
      "metadata": {
        "id": "3M6QjTsSkmYe"
      },
      "source": [
        "Según el problema (y tenga sentido), diseña un juego de datos de entrada aleatorios"
      ]
    },
    {
      "cell_type": "markdown",
      "metadata": {
        "id": "Jc3_OlyNkvjZ"
      },
      "source": [
        "Respuesta"
      ]
    },
    {
      "cell_type": "code",
      "metadata": {
        "id": "sJ-N2etjkyWc",
        "colab": {
          "base_uri": "https://localhost:8080/"
        },
        "outputId": "525b33fe-fbcb-4b6f-dfef-58e29edd14d8"
      },
      "source": [
        "import random\n",
        "import operator\n",
        "\n",
        "\n",
        "# Define la población inicial de soluciones aleatorias\n",
        "def create_population(num_individuals):\n",
        "    population = []\n",
        "    for i in range(num_individuals):\n",
        "        individual = [random.randint(1, 9) for _ in range(5)]\n",
        "        individual += [random.suffle(['+', '-', '*', '/']]\n",
        "        population.append(individual)\n",
        "    return population\n",
        "\n",
        "# Evalúa la adecuación de una solución para el problema\n",
        "def evaluate_fitness(solution, target):\n",
        "    equation = str(solution[0])\n",
        "    for i in range(4):\n",
        "        equation += ' ' + solution[i+1] + ' ' + str(solution[i+5])\n",
        "    result = eval(equation)\n",
        "    return 1 / abs(target - result + 1)\n",
        "\n",
        "# Selecciona los individuos de la población para el cruce\n",
        "def select_parents(population):\n",
        "    fitnesses = [evaluate_fitness(solution, target) for solution in population]\n",
        "    sorted_indices = sorted(range(len(fitnesses)), key=lambda k: fitnesses[k], reverse=True)\n",
        "    num_parents = len(population) // 2\n",
        "    parents = [population[i] for i in sorted_indices[:num_parents]]\n",
        "    return parents\n",
        "\n",
        "# Cruza dos soluciones para generar una nueva solución\n",
        "def crossover(parent1, parent2):\n",
        "    pivot = random.randint(0, 8)\n",
        "    child1 = parent1[:pivot] + parent2[pivot:]\n",
        "    child2 = parent2[:pivot] + parent1[pivot:]\n",
        "    return child1, child2\n",
        "\n",
        "# Mutación de una solución\n",
        "def mutate(solution):\n",
        "    mutation_rate = 0.05\n",
        "    for i in range(9):\n",
        "        if random.random() < mutation_rate:\n",
        "            solution[i] = random.randint(1, 9)\n",
        "    for i in range(4):\n",
        "        if random.random() < mutation_rate:\n",
        "            solution[i+5] = random.choice(['+', '-', '*', '/'])\n",
        "    return solution\n",
        "\n",
        "# Ejecución del algoritmo genético\n",
        "target = 4\n",
        "population_size = 50\n",
        "num_generations = 100\n",
        "\n",
        "population = create_population(population_size)\n",
        "\n",
        "for i in range(num_generations):\n",
        "    parents = select_parents(population)\n",
        "    new_population = parents\n",
        "    while len(new_population) < population_size:\n",
        "        parent1 = random.choice(parents)\n",
        "        parent2 = random.choice(parents)\n",
        "        child1, child2 = crossover(parent1, parent2)\n",
        "        new_population += [mutate(child1), mutate(child2)]\n",
        "    population = new_population\n",
        "\n",
        "    best_solution = max(population, key=lambda x: evaluate_fitness(x, target))\n",
        "    best_fitness = evaluate_fitness(best_solution"
      ],
      "execution_count": null,
      "outputs": [
        {
          "output_type": "stream",
          "name": "stdout",
          "text": [
            "[[]]\n"
          ]
        }
      ]
    },
    {
      "cell_type": "markdown",
      "metadata": {
        "id": "zy5ZROmjlGo1"
      },
      "source": [
        "Aplica el algoritmo al juego de datos generado"
      ]
    },
    {
      "cell_type": "markdown",
      "metadata": {
        "id": "_Cmj-PVylMsa"
      },
      "source": [
        "Respuesta"
      ]
    },
    {
      "cell_type": "code",
      "metadata": {
        "id": "Jkx8GeiYlUz1",
        "colab": {
          "base_uri": "https://localhost:8080/"
        },
        "outputId": "ef1a5606-0081-463f-efed-b42a9bcc10b8"
      },
      "source": [
        "\n",
        "import numpy as np\n",
        "\n",
        "numbers = list('123456789')\n",
        "operations = list('+-*/')\n",
        "\n",
        "# Define la población inicial de soluciones aleatorias\n",
        "def create_population(num_individuals):\n",
        "    population = []\n",
        "    for i in range(num_individuals):\n",
        "      numbers_copy = numbers.copy()\n",
        "      operations_copy = operations.copy()\n",
        "      np.random.shuffle(numbers_copy)\n",
        "      np.random.shuffle(operations_copy)\n",
        "      population.append([numbers_copy[4:], operations_copy])\n",
        "    return population\n",
        "\n",
        "# Evalúa la adecuación de una solución para el problema\n",
        "def evaluate_population(population, target):\n",
        "  for individuo in population:\n",
        "    equation = str(individuo[0][0] + individuo[1][0] + individuo[0][1] + individuo[1][1] + individuo[0][2] + individuo[1][2] + individuo[0][3] + individuo[1][3] + individuo[0][4])\n",
        "    result = round(eval(equation),2)\n",
        "    error = round(abs(target - result),2)\n",
        "    individuo.append([result])\n",
        "    individuo.append([error])\n",
        "\n",
        "  sorted_population = sorted(population, key=lambda x: x[3]) # Ordenamos los individuos según el error cometido\n",
        "  return sorted_population\n",
        "\n",
        "# Selecciona los individuos de la población para el cruce\n",
        "def select_parents(population, n_parents):\n",
        "    \n",
        "    # Genera una lista de probabilidades ponderadas\n",
        "    weights = []\n",
        "    for i in range(len(population)):\n",
        "      if i <= 50:\n",
        "        p = 0.5\n",
        "      if 50 < i <= 85:\n",
        "        p = 0.33\n",
        "      if i > 85:\n",
        "        p = 0.17  \n",
        "      weights.append(p)\n",
        "    \n",
        "    # Normalizo la probabilad a 1\n",
        "    weights = np.array(weights)\n",
        "    weights /= weights.sum()\n",
        "    # print(np.array(weights).sum())\n",
        "    random_choice = np.random.choice(np.arange(0,len(population)), size=n_parents, p=weights) # Selecciona n elementos de la lista con probabilidades ponderadas \n",
        "    parents = [population[i] for i in random_choice]\n",
        "    return parents\n",
        "\n",
        "# Realizar el cruze entre la población dada\n",
        "def parents_cross(parents):\n",
        "  cross = []\n",
        "  for i in range(0, len(parents), 2):\n",
        "    cross1 = [parents[i][0], parents[i+1][1]]\n",
        "    cross2 = [parents[i+1][0], parents[i][1]]\n",
        "    cross.append(cross1)\n",
        "    cross.append(cross2)\n",
        "  return cross  \n",
        "\n",
        "# Realiza una mutación a la población dada\n",
        "def child_mutation(cross):\n",
        "  mutations = []\n",
        "  for child in cross:\n",
        "    numbers = child[0].copy()\n",
        "    operations = child[1].copy()\n",
        "    numbers[0], numbers[1] = numbers[1], numbers[0] \n",
        "    mutation = [numbers, operations]\n",
        "    # print(child, mutation)\n",
        "    mutations.append(mutation)\n",
        "  return mutations\n",
        "\n",
        "# Selecciono los individuos que van a pasar a la siguiente generacion\n",
        "def next_generation(population, cross, mutations, target):\n",
        "\n",
        "  # Uno en una poblacion los individuos de cross y de mutations\n",
        "  cross_mutation = cross.copy()\n",
        "  cross_mutation.extend(mutations)\n",
        "  # print(len(cross_mutation),len(cross))\n",
        "\n",
        "  # Evaluo a dichos individuos\n",
        "  evaluate_population(cross_mutation, target)\n",
        "  # print(cross_mutation)\n",
        "\n",
        "  # Junto a todos en una sola poblacion y me quedo con los 100 mejores\n",
        "  next_gen = population.copy()\n",
        "  next_gen.extend(cross_mutation)\n",
        "  next_gen_sorted = sorted(next_gen, key=lambda x: x[3]) # Ordenamos los individuos según el error cometido\n",
        "  # display(next_gen_sorted[:100])\n",
        "  # print(len(next_gen_sorted))\n",
        "  return next_gen_sorted[:len(population)]\n",
        "\n",
        "def number_search_genetic(n_individuals, target, n_generations):\n",
        "  for generation in range(n_generations): \n",
        "    print('--- Calculando la generación:', generation)\n",
        "    population = create_population(n_individuals)\n",
        "    population = evaluate_population(population, target)\n",
        "    # print(population[0][3])\n",
        "    if population[0][3] == [0.0]:\n",
        "      numeros = population[0][0]\n",
        "      operators = population[0][1]\n",
        "      expresion = numeros[0] + operators[0] + numeros[1] + operators[1] + numeros[2] + operators[2] + numeros[3] + operators[3] + numeros[4]\n",
        "      print('La solución es:', expresion)\n",
        "      break\n",
        "    # print(population)\n",
        "    parents = select_parents(population, int(n_individuals / 2))\n",
        "    # print(parents)\n",
        "    cross = parents_cross(parents)\n",
        "    mutations = child_mutation(cross)\n",
        "    # print(childs[0],mutations[0])\n",
        "    next_gen = next_generation(population, cross, mutations, target)\n",
        "    if next_gen[0][3] == 0.0:\n",
        "      numeros = str(next_gen[0][0])\n",
        "      operators = str(next_gen[0][1])\n",
        "      expresion = numeros[0] + operators[0] + numeros[1] + operators[1] + numeros[2] + operators[2] + numeros[3] + operators[3] + numeros[4]\n",
        "      print('La solución es:', expresion)\n",
        "      break\n",
        "    # display(population)\n",
        "    # display(next_gen)\n",
        "\n",
        "number_search_genetic(100, 74, 100)\n"
      ],
      "execution_count": 221,
      "outputs": [
        {
          "output_type": "stream",
          "name": "stdout",
          "text": [
            "--- Calculando la generación: 0\n",
            "--- Calculando la generación: 1\n",
            "--- Calculando la generación: 2\n",
            "--- Calculando la generación: 3\n",
            "--- Calculando la generación: 4\n",
            "--- Calculando la generación: 5\n",
            "--- Calculando la generación: 6\n",
            "--- Calculando la generación: 7\n",
            "--- Calculando la generación: 8\n",
            "--- Calculando la generación: 9\n",
            "--- Calculando la generación: 10\n",
            "--- Calculando la generación: 11\n",
            "--- Calculando la generación: 12\n",
            "--- Calculando la generación: 13\n",
            "--- Calculando la generación: 14\n",
            "--- Calculando la generación: 15\n",
            "--- Calculando la generación: 16\n",
            "--- Calculando la generación: 17\n",
            "--- Calculando la generación: 18\n",
            "--- Calculando la generación: 19\n",
            "--- Calculando la generación: 20\n",
            "--- Calculando la generación: 21\n",
            "--- Calculando la generación: 22\n",
            "--- Calculando la generación: 23\n",
            "--- Calculando la generación: 24\n",
            "--- Calculando la generación: 25\n",
            "--- Calculando la generación: 26\n",
            "--- Calculando la generación: 27\n",
            "--- Calculando la generación: 28\n",
            "--- Calculando la generación: 29\n",
            "--- Calculando la generación: 30\n",
            "--- Calculando la generación: 31\n",
            "--- Calculando la generación: 32\n",
            "--- Calculando la generación: 33\n",
            "--- Calculando la generación: 34\n",
            "--- Calculando la generación: 35\n",
            "--- Calculando la generación: 36\n",
            "--- Calculando la generación: 37\n",
            "La solución es: 6+8*9/1-4\n"
          ]
        }
      ]
    },
    {
      "cell_type": "markdown",
      "metadata": {
        "id": "eTFWUJQrtGcv"
      },
      "source": [
        "Enumera las referencias que has utilizado(si ha sido necesario) para llevar a cabo el trabajo"
      ]
    },
    {
      "cell_type": "markdown",
      "metadata": {
        "id": "YKQ_mRBttWsP"
      },
      "source": [
        "Respuesta"
      ]
    },
    {
      "cell_type": "markdown",
      "metadata": {
        "id": "kAkDPUyRtYyH"
      },
      "source": [
        "Describe brevemente las lineas de como crees que es posible avanzar en el estudio del problema. Ten en cuenta incluso posibles variaciones del problema y/o variaciones al alza del tamaño"
      ]
    },
    {
      "cell_type": "markdown",
      "metadata": {
        "id": "IE0uZmo-tZu-"
      },
      "source": [
        "Respuesta"
      ]
    }
  ]
}