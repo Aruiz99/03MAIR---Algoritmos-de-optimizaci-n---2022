{
  "cells": [
    {
      "cell_type": "markdown",
      "metadata": {
        "id": "view-in-github",
        "colab_type": "text"
      },
      "source": [
        "<a href=\"https://colab.research.google.com/github/Aruiz99/03MAIR---Algoritmos-de-optimizacion---2022/blob/main/Copia_de_Seminario_Algoritmos.ipynb\" target=\"_parent\"><img src=\"https://colab.research.google.com/assets/colab-badge.svg\" alt=\"Open In Colab\"/></a>"
      ]
    },
    {
      "cell_type": "markdown",
      "metadata": {
        "id": "hVbXYX-RfPWh"
      },
      "source": [
        "# Algoritmos de optimización - Seminario<br>\n",
        "Nombre y Apellidos:   <br>\n",
        "Url: https://github.com/.../03MAIR---Algoritmos-de-Optimizacion---2019/tree/master/SEMINARIO<br>\n",
        "Problema:\n",
        "> 3. Combinar cifras y operaciones <br>\n",
        "\n",
        "**Descripción del problema:**\n",
        "\n",
        "Disponemos de las 9 cifras del 1 al 9 (excluimos el cero) y de los 4 signos básicos de las operaciones fundamentales: suma(+), resta(-), multiplicación(*) y división(/). <br>\n",
        "Debemos combinarlos alternativamente sin repetir ninguno de ellos para obtener una cantidad \n",
        "dada. <br>\n",
        "Debe analizarse el problema para encontrar todos los valores enteros posibles planteando las \n",
        "siguientes cuestiones:\n",
        "- ¿Qué valor máximo y mínimo se pueden obtener según las condiciones del problema?\n",
        "- ¿Es posible encontrar todos los valores enteros posibles entre dicho mínimo y máximo ?\n",
        "\n",
        "(*) La respuesta es obligatoria\n",
        "\n",
        "\n",
        "\n",
        "\n",
        "\n",
        "                                        "
      ]
    },
    {
      "cell_type": "code",
      "execution_count": null,
      "metadata": {
        "id": "9HXCRH6oaYr8"
      },
      "outputs": [],
      "source": []
    },
    {
      "cell_type": "markdown",
      "metadata": {
        "id": "3_-exlrTgLd-"
      },
      "source": [
        "\n",
        "**(*)¿Cuantas posibilidades hay sin tener en cuenta las restricciones? <br>\n",
        "¿Cuantas posibilidades hay teniendo en cuenta todas las restricciones.**\n",
        "\n",
        "\n"
      ]
    },
    {
      "cell_type": "markdown",
      "metadata": {
        "id": "WfCUqJyKhPcw"
      },
      "source": [
        "**Respuesta**\n",
        "\n",
        "Existen 9 opciones para la primera posición de la expresión, luego 8 opciones para la segunda posición (ya que no podemos repetir el número que usamos en la primera posición) y así sucesivamente hasta llegar a la quinta posición, donde solo quedan 5 opciones. Por lo tanto, el número total de formas en que podemos colocar los números es:\n",
        "\n",
        "> 9 x 8 x 7 x 6 x 5 = 15120\n",
        "\n",
        "Para los operadores, tenemos 4 opciones para la primera posición, 3 opciones para la segunda posición, y solo 2 opciones para la tercera posición. Por lo tanto, el número total de formas en que podemos colocar los operadores es:\n",
        "\n",
        "> 4! = 4 x 3 x 2 = 24\n",
        "\n",
        "Por lo tanto, el número total de combinaciones posibles es:\n",
        "\n",
        "> 15120 x 24 = 362880\n",
        "\n",
        "Esto significa que hay 362880 formas diferentes de combinar los dígitos y los operadores para obtener una cantidad dada.\n"
      ]
    },
    {
      "cell_type": "code",
      "execution_count": null,
      "metadata": {
        "id": "m2c0giEXaYD8"
      },
      "outputs": [],
      "source": []
    },
    {
      "cell_type": "markdown",
      "metadata": {
        "id": "dzynfVJahHoY"
      },
      "source": [
        " **Modelo para el espacio de soluciones<br>\n",
        "(*) ¿Cual es la estructura de datos que mejor se adapta al problema? Argumentalo.(Es posible que hayas elegido una al principio y veas la necesidad de cambiar, arguentalo)**\n"
      ]
    },
    {
      "cell_type": "markdown",
      "metadata": {
        "id": "xFIJrOwKi2Ti"
      },
      "source": [
        "**Respuesta**\n",
        "\n",
        "La estructura de datos que considero que mejor se adapta a este problema es la lista. Creo que es una manera muy simple de abordar el problema, por un lado tendremos una lista que contega los números y por otro lado, otra lista con las operaciones. El algoritmo de fueza bruta emplea strings, porque comencé empleandolos, pero a la hora de realizar mi algortimo me resultó más sencillo cambiar el tipo a listas."
      ]
    },
    {
      "cell_type": "code",
      "execution_count": null,
      "metadata": {
        "id": "38c-7-ejhJmA"
      },
      "outputs": [],
      "source": []
    },
    {
      "cell_type": "markdown",
      "metadata": {
        "id": "2-1Hdvq2aA8n"
      },
      "source": []
    },
    {
      "cell_type": "markdown",
      "metadata": {
        "id": "7Z9U2W7bi-XS"
      },
      "source": [
        "**Según el modelo para el espacio de soluciones<br>** \n",
        "**(*)¿Cual es la función objetivo?** <br> \n",
        "**(*)¿Es un problema de maximización o minimización?**"
      ]
    },
    {
      "cell_type": "markdown",
      "metadata": {
        "id": "hBalWLM7j1_d"
      },
      "source": [
        "**Respuesta**\n",
        "\n",
        "En este problema, no hay una función objetivo explícita, ya que no estamos optimizando ninguna variable específica. En cambio, estamos tratando de encontrar todas las combinaciones posibles de números y operaciones que nos den como resultado un número entero en un rango determinado, utilizando las 9 cifras del 1 al 9 y los 4 operadores básicos (+, -, *, /) en cualquier orden y sin repetirlos. Por lo tanto, nuestro objetivo es simplemente encontrar todas las combinaciones que cumplan con estas restricciones y produzcan los resultados enteros posibles dentro del rango especificado.\n",
        "\n",
        "De la misma manera no se trata de un problema ni de maximización ni de minimización, si no que se trata de un problema de busqueda."
      ]
    },
    {
      "cell_type": "code",
      "execution_count": null,
      "metadata": {
        "id": "pDA-rg3Gj5Lz"
      },
      "outputs": [],
      "source": []
    },
    {
      "cell_type": "markdown",
      "metadata": {
        "id": "rlnTYgY1j6I2"
      },
      "source": [
        "**Diseña un algoritmo para resolver el problema por fuerza bruta**"
      ]
    },
    {
      "cell_type": "markdown",
      "metadata": {
        "id": "70rDgxYXkC8r"
      },
      "source": [
        "**Respuesta**\n",
        "\n",
        "El algortimo que vamos a diseñar consistirá en encontrar la expresión que proporcione un número entero concreto. Después de eso aplicaremos un bucle para encontrar tanto el mínimo como el máximo. Y por último veremos si es posible encontrar todos los valores enteros entre dicho rango. "
      ]
    },
    {
      "cell_type": "code",
      "execution_count": null,
      "metadata": {
        "colab": {
          "base_uri": "https://localhost:8080/"
        },
        "id": "CJb5sQ0qkENy",
        "outputId": "a752ae7e-33ba-4514-af83-170012057c25"
      },
      "outputs": [
        {
          "name": "stdout",
          "output_type": "stream",
          "text": [
            "('1+2*6-9/3', 10.0)\n"
          ]
        }
      ],
      "source": [
        "# Definimos una función que encuentre la expresión de un número dado.\n",
        "def number_search(number):\n",
        "  numbers = '123456789'\n",
        "  operations = '+-*/'\n",
        "\n",
        "  for n0 in numbers:\n",
        "    numbers0 = numbers.replace(n0, \"\")\n",
        "    for n1 in numbers0:\n",
        "      numbers1 = numbers0.replace(n1, \"\")\n",
        "      for n2 in numbers1:\n",
        "        numbers2 = numbers1.replace(n2, \"\")\n",
        "        for n3 in numbers2:\n",
        "          numbers3 = numbers2.replace(n3, \"\")\n",
        "          for n4 in numbers3:\n",
        "            for o0 in operations:\n",
        "              operations0 = operations.replace(o0, \"\")\n",
        "              for o1 in operations0:\n",
        "                operations1 = operations0.replace(o1, \"\")\n",
        "                for o2 in operations1:\n",
        "                  operations2 = operations1.replace(o2, \"\")\n",
        "                  for o3 in operations2:\n",
        "                    expresion = n0+o0+n1+o1+n2+o2+n3+o3+n4\n",
        "                    sol = eval(expresion)\n",
        "                    if sol == number:\n",
        "                      return (expresion, sol)\n",
        "\n",
        "\n",
        "print(number_search(10))"
      ]
    },
    {
      "cell_type": "code",
      "execution_count": null,
      "metadata": {
        "colab": {
          "base_uri": "https://localhost:8080/"
        },
        "id": "YdeBybWstkva",
        "outputId": "487ce48e-b83e-4b7e-e032-390d9572c6ba"
      },
      "outputs": [
        {
          "name": "stdout",
          "output_type": "stream",
          "text": [
            "(-69.0, 77.0)\n",
            "[-70, 78, 79, 80]\n"
          ]
        }
      ],
      "source": [
        "# Aplicaremos un bucle para encontrar tanto el mínimo como el máximo, simultaneamente almacenamos todos los valores enteros que no se encuentren entre dicho rango.  \n",
        "\n",
        "def get_range_values(vmin, vmax):\n",
        "  # Definimos las variables iniciales \n",
        "  mayor, menor = 0, 0\n",
        "  valores_no_encontrados = []\n",
        "\n",
        "  # Computamos el bucle entre -70 y 80 (Para que no tarde mucho he precalculado el rango y he puesto un par de valores fuera del mismo)\n",
        "  for i in range(vmin, vmax + 1):\n",
        "    expresion_sol = number_search(i)\n",
        "\n",
        "    if expresion_sol != None:\n",
        "      expresion, sol = expresion_sol\n",
        "      if sol > mayor:\n",
        "        mayor = sol \n",
        "      if sol < menor:\n",
        "        menor = sol\n",
        "\n",
        "    else:\n",
        "      valores_no_encontrados.append(i)\n",
        "\n",
        "  return((menor,mayor), valores_no_encontrados)\n",
        "\n",
        "menor_mayor, valores_no_encontrados = get_range_values(-70, 80)\n",
        "print(menor_mayor)\n",
        "print(valores_no_encontrados)"
      ]
    },
    {
      "cell_type": "markdown",
      "metadata": {
        "id": "tgrnsC2nkFa8"
      },
      "source": [
        "**Calcula la complejidad del algoritmo por fuerza bruta**"
      ]
    },
    {
      "cell_type": "markdown",
      "metadata": {
        "id": "9eUd3xwckP68"
      },
      "source": [
        "\n",
        "**Respuesta**\n",
        "\n",
        "Vamos a estudiar la complejidad de la función principal \"*number_search*\". <br>\n",
        "\n",
        "La función realiza un bucle anidado que crea todas las posibles combinaciones de cinco números diferentes y cuatro operadores aritméticos. El número de iteraciones en cada nivel del bucle es decreciente, ya que después de cada iteración se elimina un número del conjunto de números y un operador del conjunto de operadores. \n",
        "\n",
        "Vamos a estudiar el caso de que numbers = '123456789' y operations = '+-*/',\n",
        "denominaremos n a la longitud de numbers y m a la longitud de operations, n = 9\n",
        "y m = 4.\n",
        "\n",
        "Como solo podemos coger 5 números, los bucles referentes a los números empiezan en n, luego se elimina un elemento de numeros (n-1), luego otro (n-2) y así hasta (n-4). No se utilizan todos los elementos, por lo tanto no se realizan n! operaciones, si no que se realizan: n x (n-1) x (n-2) x (n-3) x (n-4) operaciones.\n",
        "\n",
        "Por otro lado, las operaciones si utilizamos todas, por lo tango su complejidad es de m!\n",
        "\n",
        "En el peor caso, la función encontrará el número en la última iteración del bucle o directamente no encuentra el número, en cuyo caso habrá realizado: n x (n-1) x (n-2) x (n-3) x (n-4) x m! operaciones, que resultan en 9 x 8 x 7 x 6 x 5 x 4 x 3 x 2 operaciones o lo que es lo mismo 9!\n",
        "\n",
        "Si por ejemplo utilizamos number = '1234567' y operations la mantenemos igual,\n",
        "el número de operaciones sería de 7 x 6 x 5 x 4 x 3 x 4 x 3 x 2.\n",
        "\n",
        "Por lo tanto, la complejidad del algoritmo no es de O(n!), si no que es de O(n x (n-1) x (n-2) x (n-3) x (n-4) x m!), siendo n la longitud de numbers y m la longitud de operations. Aún así el algoritmo es muy dependiente de n.\n",
        "\n",
        "Si asumimos que m no va a variar, es decir, operations = '+-*/', podemos asumirlo m como constante, ya que siempre será 4!. Y la complejidad final del algoritmo ahora solo depende de n, quedando la complejidad en O(n x (n-1) x (n-2) x (n-3) x (n-4)), resultando finalmente en O(n^5)."
      ]
    },
    {
      "cell_type": "markdown",
      "metadata": {
        "id": "txbrmLmskReM"
      },
      "source": [
        "**(*)Diseña un algoritmo que mejore la complejidad del algortimo por fuerza bruta. Argumenta porque crees que mejora el algoritmo por fuerza bruta.**"
      ]
    },
    {
      "cell_type": "markdown",
      "metadata": {
        "id": "hLrVwt5QkZPD"
      },
      "source": [
        "**Respuesta**\n",
        "\n",
        "He construido mi algoritmo basandome en algoritmos genéticos. Y considero que es mejor porque reduce tanto el tiempo de ejecución, como la complejidad del algoritmo por fuerza bruta, como se estudiará más adelante."
      ]
    },
    {
      "cell_type": "code",
      "execution_count": null,
      "metadata": {
        "colab": {
          "base_uri": "https://localhost:8080/"
        },
        "id": "m1eyM21Vkabg",
        "outputId": "dffb15aa-06f0-4c0d-c328-45f4d35f5462"
      },
      "outputs": [
        {
          "name": "stdout",
          "output_type": "stream",
          "text": [
            "('8*6+9-7/1', 50.0)\n"
          ]
        }
      ],
      "source": [
        "import numpy as np\n",
        "\n",
        "# Definimos los números y las operaciones\n",
        "numbers = list('123456789')\n",
        "operations = list('+-*/')\n",
        "\n",
        "# Define la población inicial de soluciones aleatorias\n",
        "def create_population(num_individuals):\n",
        "    population = []\n",
        "    for i in range(num_individuals):\n",
        "      numbers_copy = numbers.copy()\n",
        "      operations_copy = operations.copy()\n",
        "      np.random.shuffle(numbers_copy)\n",
        "      np.random.shuffle(operations_copy)\n",
        "      population.append([numbers_copy[4:], operations_copy])\n",
        "    return population\n",
        "\n",
        "# Evalúa la adecuación de una solución para el problema\n",
        "def evaluate_population(population, target):\n",
        "  for individuo in population:\n",
        "    equation = str(individuo[0][0] + individuo[1][0] + individuo[0][1] + individuo[1][1] + individuo[0][2] + individuo[1][2] + individuo[0][3] + individuo[1][3] + individuo[0][4])\n",
        "    result = round(eval(equation),2)\n",
        "    error = round(abs(target - result),2)\n",
        "    individuo.append([result])\n",
        "    individuo.append([error])\n",
        "\n",
        "  sorted_population = sorted(population, key=lambda x: x[3]) # Ordenamos los individuos según el error cometido\n",
        "  return sorted_population\n",
        "\n",
        "# Selecciona los individuos de la población para el cruce\n",
        "def select_parents(population, n_parents):\n",
        "    \n",
        "    # Genera una lista de probabilidades ponderadas\n",
        "    weights = []\n",
        "    for i in range(len(population)):\n",
        "      if i <= int(len(population) * 0.5):\n",
        "        p = 0.33\n",
        "      if int(len(population) * 0.5) < i <= int(len(population) * 0.85):\n",
        "        p = 0.33\n",
        "      if i > int(len(population) * 0.85):\n",
        "        p = 0.33\n",
        "      weights.append(p)\n",
        "    \n",
        "    # Normalizo la probabilad a 1\n",
        "    weights = np.array(weights)\n",
        "    weights /= weights.sum()\n",
        "    # print(np.array(weights).sum())\n",
        "    random_choice = np.random.choice(np.arange(0,len(population)), size=n_parents, p=weights) # Selecciona n elementos de la lista con probabilidades ponderadas \n",
        "    parents = [population[i] for i in random_choice]\n",
        "    return parents\n",
        "\n",
        "# Realizar el cruze entre la población dada\n",
        "def parents_cross(parents):\n",
        "  cross = []\n",
        "  for i in range(0, len(parents), 2):\n",
        "    cross1 = [parents[i][0], parents[i+1][1]]\n",
        "    cross2 = [parents[i+1][0], parents[i][1]]\n",
        "    cross.append(cross1)\n",
        "    cross.append(cross2)\n",
        "  return cross  \n",
        "\n",
        "# Realiza una mutación a la población dada\n",
        "def child_mutation(population):\n",
        "  mutations = []\n",
        "  for child in population:\n",
        "    numbers = child[0].copy()\n",
        "    operations = child[1].copy()\n",
        "\n",
        "    # Mutacion introduciendo un número aleatorio en una posición aleatoria\n",
        "    a, b = np.random.randint(0,5), np.random.randint(0,5) \n",
        "    n1 = np.random.randint(1,9)\n",
        "    if (str(n1) not in numbers):\n",
        "      numbers[a] = str(n1)\n",
        "      n2 = np.random.randint(1,9)\n",
        "      if (str(n2) not in numbers):\n",
        "        numbers[b] = str(n2)\n",
        "    mutation = [numbers, operations]\n",
        "    mutations.append(mutation)\n",
        "  return mutations\n",
        "\n",
        "# Selecciono los individuos que van a pasar a la siguiente generacion\n",
        "def next_generation(population, cross, mutations, target):\n",
        "\n",
        "  # Uno en una poblacion los individuos de cross y de mutations\n",
        "  cross_mutation = cross.copy()\n",
        "  cross_mutation.extend(mutations)\n",
        "\n",
        "  # Evaluo a dichos individuos\n",
        "  evaluate_population(cross_mutation, target)\n",
        "\n",
        "  # Junto a todos en una sola poblacion y me quedo con los 100 mejores\n",
        "  next_gen = population.copy()\n",
        "  next_gen.extend(cross_mutation)\n",
        "  next_gen_sorted = sorted(next_gen, key=lambda x: x[3]) # Ordenamos los individuos según el error cometido\n",
        "\n",
        "  return next_gen_sorted[:len(population)]\n",
        "\n",
        "\n",
        "def number_search_genetic(target, n_individuals=500, n_generations=200):\n",
        "\n",
        "    # Generamos la población inicial y la evaluamos\n",
        "    population = create_population(n_individuals)\n",
        "    population = evaluate_population(population, target)\n",
        "    next_gen = population\n",
        "\n",
        "    sol = False \n",
        "\n",
        "    for individual in population:\n",
        "      if individual[3] == [0.0]:\n",
        "        numeros = individual[0]\n",
        "        operators = individual[1]\n",
        "        expresion = numeros[0] + operators[0] + numeros[1] + operators[1] + numeros[2] + operators[2] + numeros[3] + operators[3] + numeros[4]\n",
        "        sol = True\n",
        "        return (expresion, eval(expresion))\n",
        "   \n",
        "    if not(sol):\n",
        "      for i in range(n_generations): \n",
        "        parents = select_parents(next_gen, int(n_individuals))\n",
        "        cross = parents_cross(parents)\n",
        "        mutations = child_mutation(cross)\n",
        "        next_gen = next_generation(next_gen, cross, mutations, target)\n",
        "\n",
        "        if next_gen[0][3] == [0.0]:\n",
        "          numeros = (next_gen[0][0])\n",
        "          operators = (next_gen[0][1])\n",
        "          expresion = numeros[0] + operators[0] + numeros[1] + operators[1] + numeros[2] + operators[2] + numeros[3] + operators[3] + numeros[4]\n",
        "          return (expresion, eval(expresion))\n",
        "\n",
        "print(number_search_genetic(50, 500, 200))\n"
      ]
    },
    {
      "cell_type": "code",
      "execution_count": null,
      "metadata": {
        "colab": {
          "background_save": true
        },
        "id": "YzLtCB8Za0m5",
        "outputId": "931e8528-0963-4cd5-aff9-43ae13681ae2"
      },
      "outputs": [
        {
          "name": "stdout",
          "output_type": "stream",
          "text": [
            "(-69.0, 77.0)\n",
            "[-70, 78, 79, 80]\n"
          ]
        }
      ],
      "source": [
        "# Aplicaremos un bucle para encontrar tanto el mínimo como el máximo, simultaneamente almacenamos todos los valores enteros que no se encuentren entre dicho rango.  \n",
        "\n",
        "def get_range_values_genetic(vmin, vmax, n_individuals, n_generations):\n",
        "  # Definimos las variables iniciales \n",
        "  mayor, menor = 0, 0\n",
        "  valores_no_encontrados = []\n",
        "\n",
        "  # Computamos el bucle entre -70 y 80 (Para que no tarde mucho he precalculado el rango y he puesto un par de valores fuera del mismo)\n",
        "  for i in range(vmin, vmax + 1):\n",
        "    expresion_sol = number_search_genetic(i, n_individuals, n_generations)\n",
        "\n",
        "    if expresion_sol != None:\n",
        "      expresion, sol = expresion_sol\n",
        "      if sol > mayor:\n",
        "        mayor = sol \n",
        "      if sol < menor:\n",
        "        menor = sol\n",
        "\n",
        "    else:\n",
        "      valores_no_encontrados.append(i)\n",
        "\n",
        "  return((menor,mayor), valores_no_encontrados)\n",
        "\n",
        "menor_mayor, valores_no_encontrados = get_range_values_genetic(-70, 80, 500, 200)\n",
        "print(menor_mayor)\n",
        "print(valores_no_encontrados)"
      ]
    },
    {
      "cell_type": "markdown",
      "source": [
        "**(*)Calcula la complejidad del algoritmo.**"
      ],
      "metadata": {
        "id": "0nwZTZI-dHfh"
      }
    },
    {
      "cell_type": "markdown",
      "metadata": {
        "id": "eGDB4K6uk1iN"
      },
      "source": [
        "**Respuesta**\n",
        "\n",
        "Vamos a estudiar la complejidad del algoritmo principal \"*number_search_genetic*\". <br>\n",
        "Para ello, vamos a calcular la comlejidad de las distintas funciones internas y aproximaremos a la mayor de las mismas.\n",
        "\n",
        "> \"number_search_genetic(target, n_individuals, n_generations)\"\n",
        "> > \"create_population(num_individuals)\" \n",
        "> > > - La operación de bucle \"for\" se ejecuta \"num_individuals\" veces, por lo que cualquier operación dentro del bucle se ejecuta \"num_individuals\" veces. Esto contribuye con un factor de O(num_individuals).\n",
        "> > > - La operación \"numbers_copy = numbers.copy()\" copia la lista \"numbers\", lo que lleva un tiempo proporcional a la longitud de la lista, es decir, O(n).\n",
        "> > > - La operación \"operations_copy = operations.copy()\" copia la lista \"operations\", lo que lleva un tiempo proporcional a la longitud de la lista, es decir, O(m).\n",
        "> > > - La operación \"np.random.shuffle(numbers_copy)\" reordena aleatoriamente la lista \"numbers_copy\" y lleva un tiempo proporcional a log(n), ya que utiliza el algoritmo de Fisher-Yates.\n",
        "> > > - La operación \"np.random.shuffle(operations_copy)\" reordena aleatoriamente la lista \"operations_copy\" y lleva un tiempo proporcional a log(m), ya que también utiliza el algoritmo de Fisher-Yates.\n",
        "> > > - La operación \"population.append([numbers_copy[4:], operations_copy])\" agrega un elemento a la lista \"population\". La longitud de \"numbers_copy\" se reduce en 4 antes de agregarlo a la lista, por lo que esta operación es proporcional a n-4.\n",
        "> > > - En general, esta operación lleva un tiempo proporcional a la longitud de \"numbers_copy\" más la longitud de \"operations_copy\", es decir, O(n+m-4).\n",
        "Juntando todo, la complejidad Big-O de la función es O(num_individuals * (2n + m + log(n) + log(m) - 4)). Vamos a estudiar como evoluciona la complejidad del algortimo en función de \"n\", la longitud de la variable \"numbers\".\n",
        "Todo lo demás vamos a asumirlo constante (n_individuos y m), quedandonos así la complejidad de la función como, O(2n + log(n)).\n",
        "\n",
        "> > \"evaluate_population(population, target)\"\n",
        "> > > - De la misma manera que en el caso anterior, la operación de bucle \"for\" se ejecuta \"num_individuals\" veces, por lo que cualquier operación dentro del bucle se ejecuta \"num_individuals\" veces. Ya que el tamaño de \"population\" es el mismo que el \"num_indivuals\". Esto contribuye con un factor de O(num_individuals).\n",
        "> > > - La función \"eval\" depende linealmente del tamaño de la cadena, que a su vez dependería de \"n\" y \"m\". Obteniendo una complejidad de O(n + m).\n",
        "> > > - Por último, fuera del bucle aplicamos la función \"sorted\", que emplea el algoritmo de Timsort, el cual tiene una complejidad de O(n_individuals * log(n_individuals)) \n",
        "> > > - Las demás operaciones no afectan significativamente a la complejidad de la función, por lo tanto, tenemos que O(n_individuals * (n + m + log(n_individulas). Como hemos dicho anteriormente la estudiaremos en función de \"n\", resultando en O(n)\n",
        "\n",
        "> > \"select_parents(population, n_parents)\"\n",
        "> > > - A partir de ahora no detallaré tanto las funciones para agilizar el proceso. \n",
        "> > > - Genera una lista de probabilidades ponderadas, O(n_individuals)\n",
        "> > > - Random_choice, O(log(n_individuals)\n",
        "> > > - Parents comprehension list, O(n_individuals)\n",
        "> > > - Resultando en O(2n_individuals + log(n_individuals)), observamos que no depende de \"n\", por lo tanto la complejidad de esta función es O(1).\n",
        "\n",
        "> > \"parents_cross(parents)\"\n",
        "> > > - Bucle principal, O(n_individuals/2)\n",
        "> > > - Resultando en O(n_individuals/2), observamos que no depende de \"n\", por lo tanto la complejidad de esta función es O(1).\n",
        "\n",
        "> > \"child_mutation(population)\"\n",
        "> > > - Bucle principal, O(n_individuals)\n",
        "> > > - Resultando en O(n_individuals), observamos que no depende de \"n\", por lo tanto la complejidad de esta función es O(1).\n",
        "\n",
        "> > \"next_generation(population, cross, mutations, target)\"\n",
        "> > > - cross.copy, O(n_individuals)\n",
        "> > > - cross_mutation.extend, O(n_individuals)\n",
        "> > > - evaluate_population, calculada anteriormente, O(n_individuals * (n + m + log(n_individulas)\n",
        "> > > - population.copy, O(n_individuals)\n",
        "> > > - next_gen.extend, O(n_individuals)\n",
        "> > > - cross.copy, O(n_individuals)\n",
        "> > > - next_gen_sorted, O(n_individuals * log(n_individuals))\n",
        "> > > - Resultando en O(n_individuals * (4 + 2log(n_individuals) + n + m), por lo tanto la complejidad de esta función es O(n).\n",
        "\n",
        "Ahora juntamos todo estudiando solo la variable \"n\":\n",
        ">  \"number_search_genetic(target, n_individuals, n_generations)\"\n",
        "> >  - create_population, O(2n + log(n))\n",
        "> >  - evaluate_population, O(n)\n",
        "> >  - eval, O(n)\n",
        "> >  - select_parents, O(1)\n",
        "> >  - parents_cross, O(1)\n",
        "> >  - child_mutation, O(1)\n",
        "> >  - next_generation, O(n)\n",
        "> >  - eval, O(n)\n",
        "\n",
        "> Si unimos todo y simplificamos, obtenemos una O(2n + log(n)), que resulta en O(n). Obteniendo una complejidad lineal frente a la varibale \"n\". De la misma manera si calculamos la complejidad frete a \"n_individuos\" o frete a \"n_generations\", obtendríamos una complejidad de O(n_individuos * log(n_individuos)) y O(n_generations) respectivamente."
      ]
    },
    {
      "cell_type": "markdown",
      "metadata": {
        "id": "3M6QjTsSkmYe"
      },
      "source": [
        "**Según el problema (y tenga sentido), diseña un juego de datos de entrada aleatorios**"
      ]
    },
    {
      "cell_type": "markdown",
      "source": [
        "**Respuesta**"
      ],
      "metadata": {
        "id": "xeqHRntacxJ_"
      }
    },
    {
      "cell_type": "code",
      "execution_count": null,
      "metadata": {
        "id": "sJ-N2etjkyWc"
      },
      "outputs": [],
      "source": []
    },
    {
      "cell_type": "markdown",
      "metadata": {
        "id": "zy5ZROmjlGo1"
      },
      "source": [
        "**Aplica el algoritmo al juego de datos generado**"
      ]
    },
    {
      "cell_type": "markdown",
      "metadata": {
        "id": "_Cmj-PVylMsa"
      },
      "source": [
        "**Respuesta**"
      ]
    },
    {
      "cell_type": "code",
      "execution_count": null,
      "metadata": {
        "id": "Jkx8GeiYlUz1"
      },
      "outputs": [],
      "source": []
    },
    {
      "cell_type": "markdown",
      "metadata": {
        "id": "eTFWUJQrtGcv"
      },
      "source": [
        "**Enumera las referencias que has utilizado(si ha sido necesario) para llevar a cabo el trabajo**"
      ]
    },
    {
      "cell_type": "markdown",
      "metadata": {
        "id": "YKQ_mRBttWsP"
      },
      "source": [
        "**Respuesta**\n",
        "\n",
        "https://en.wikipedia.org/wiki/Timsort\n",
        "\n",
        "https://enzyme.biz/blog/algoritmos-geneticos-y-sus-aplicaciones-para-soluciones#:~:text=Los%20algoritmos%20gen%C3%A9ticos%20son%20una,cruzamiento%2C%20la%20selecci%C3%B3n%2C%20etc.\n",
        "\n",
        "https://www.youtube.com/watch?v=8Ia8Kx1CFXE\n",
        "\n",
        "https://stackoverflow.com/questions/40143157/big-o-complexity-of-random-choicelist-in-python3"
      ]
    },
    {
      "cell_type": "markdown",
      "metadata": {
        "id": "kAkDPUyRtYyH"
      },
      "source": [
        "**Describe brevemente las lineas de como crees que es posible avanzar en el estudio del problema. Ten en cuenta incluso posibles variaciones del problema y/o variaciones al alza del tamaño**"
      ]
    },
    {
      "cell_type": "markdown",
      "metadata": {
        "id": "IE0uZmo-tZu-"
      },
      "source": [
        "**Respuesta**"
      ]
    }
  ],
  "metadata": {
    "colab": {
      "provenance": [],
      "include_colab_link": true
    },
    "kernelspec": {
      "display_name": "Python 3",
      "name": "python3"
    }
  },
  "nbformat": 4,
  "nbformat_minor": 0
}