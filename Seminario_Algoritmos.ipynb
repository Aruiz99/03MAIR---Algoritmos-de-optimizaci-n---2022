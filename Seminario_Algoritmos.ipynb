{
  "nbformat": 4,
  "nbformat_minor": 0,
  "metadata": {
    "colab": {
      "provenance": [],
      "include_colab_link": true
    },
    "kernelspec": {
      "name": "python3",
      "display_name": "Python 3"
    }
  },
  "cells": [
    {
      "cell_type": "markdown",
      "metadata": {
        "id": "view-in-github",
        "colab_type": "text"
      },
      "source": [
        "<a href=\"https://colab.research.google.com/github/Aruiz99/03MAIR---Algoritmos-de-optimizacion---2022/blob/main/Seminario_Algoritmos.ipynb\" target=\"_parent\"><img src=\"https://colab.research.google.com/assets/colab-badge.svg\" alt=\"Open In Colab\"/></a>"
      ]
    },
    {
      "cell_type": "markdown",
      "metadata": {
        "id": "hVbXYX-RfPWh"
      },
      "source": [
        "# Algoritmos de optimización - Seminario<br>\n",
        "Nombre y Apellidos:   <br>\n",
        "Url: https://github.com/.../03MAIR---Algoritmos-de-Optimizacion---2019/tree/master/SEMINARIO<br>\n",
        "Problema:\n",
        "> 3. Combinar cifras y operaciones <br>\n",
        "\n",
        "**Descripción del problema:**\n",
        "\n",
        "Disponemos de las 9 cifras del 1 al 9 (excluimos el cero) y de los 4 signos básicos de las operaciones fundamentales: suma(+), resta(-), multiplicación(*) y división(/) <br>\n",
        "Debemos combinarlos alternativamente sin repetir ninguno de ellos para obtener una cantidad \n",
        "dada. <br>\n",
        "Debe analizarse el problema para encontrar todos los valores enteros posibles planteando las \n",
        "siguientes cuestiones:\n",
        "- ¿Qué valor máximo y mínimo se pueden obtener según las condiciones del problema?\n",
        "- ¿Es posible encontrar todos los valores enteros posibles entre dicho mínimo y máximo ?\n",
        "\n",
        "(*) La respuesta es obligatoria\n",
        "\n",
        "\n",
        "\n",
        "\n",
        "\n",
        "                                        "
      ]
    },
    {
      "cell_type": "code",
      "source": [],
      "metadata": {
        "id": "9HXCRH6oaYr8"
      },
      "execution_count": null,
      "outputs": []
    },
    {
      "cell_type": "markdown",
      "metadata": {
        "id": "3_-exlrTgLd-"
      },
      "source": [
        "\n",
        "**(*)¿Cuantas posibilidades hay sin tener en cuenta las restricciones? <br>\n",
        "¿Cuantas posibilidades hay teniendo en cuenta todas las restricciones.**\n",
        "\n",
        "\n"
      ]
    },
    {
      "cell_type": "markdown",
      "metadata": {
        "id": "WfCUqJyKhPcw"
      },
      "source": [
        "**Respuesta**\n",
        "\n",
        "En nuestro problema influye el orden de los elementos (números y operaciones),  se utilizan todos los elementos y estos no se pueden repetir, por lo tanto, nos encontramos ante un caso de permutación ordinaria.\n",
        "En ella el número de posibilidades se calcula mediante: <br>\n",
        "> Pm = m! <br> \n",
        "> Donde m es el número de elementos.\n",
        "\n",
        "Resultando en:\n",
        "\n",
        ">> Pm = 9! = 9x8x7x6x5x4x3x2x1 = 362880\n"
      ]
    },
    {
      "cell_type": "code",
      "source": [],
      "metadata": {
        "id": "m2c0giEXaYD8"
      },
      "execution_count": null,
      "outputs": []
    },
    {
      "cell_type": "markdown",
      "metadata": {
        "id": "dzynfVJahHoY"
      },
      "source": [
        " **Modelo para el espacio de soluciones<br>\n",
        "(*) ¿Cual es la estructura de datos que mejor se adapta al problema? Argumentalo.(Es posible que hayas elegido una al principio y veas la necesidad de cambiar, arguentalo)**\n"
      ]
    },
    {
      "cell_type": "markdown",
      "metadata": {
        "id": "xFIJrOwKi2Ti"
      },
      "source": [
        "**Respuesta**\n",
        "\n",
        "La estructura de datos que considero que mejor se adapta a este problema es la lista. Creo que es una manera muy simple de abordar el problema, por un lado tendremos una lista que contega los números y por otro lado, otra lista con las operaciones. "
      ]
    },
    {
      "cell_type": "code",
      "metadata": {
        "id": "38c-7-ejhJmA"
      },
      "source": [],
      "execution_count": null,
      "outputs": []
    },
    {
      "cell_type": "markdown",
      "metadata": {
        "id": "7Z9U2W7bi-XS"
      },
      "source": [
        "**Según el modelo para el espacio de soluciones<br>** \n",
        "**(*)¿Cual es la función objetivo?** <br> \n",
        "**(*)¿Es un problema de maximización o minimización?**"
      ]
    },
    {
      "cell_type": "markdown",
      "metadata": {
        "id": "hBalWLM7j1_d"
      },
      "source": [
        "**Respuesta**\n",
        "\n",
        "En este problema, no hay una función objetivo explícita, ya que no estamos optimizando ninguna variable específica. En cambio, estamos tratando de encontrar todas las combinaciones posibles de números y operaciones que nos den como resultado un número entero en un rango determinado, utilizando las 9 cifras del 1 al 9 y los 4 operadores básicos (+, -, *, /) en cualquier orden y sin repetirlos. Por lo tanto, nuestro objetivo es simplemente encontrar todas las combinaciones que cumplan con estas restricciones y produzcan los resultados enteros posibles dentro del rango especificado.\n",
        "\n",
        "De la misma manera no se trata de un problema ni de maximización ni de minimización, si no que se trata de un problema de busqueda."
      ]
    },
    {
      "cell_type": "code",
      "metadata": {
        "id": "pDA-rg3Gj5Lz"
      },
      "source": [],
      "execution_count": null,
      "outputs": []
    },
    {
      "cell_type": "markdown",
      "metadata": {
        "id": "rlnTYgY1j6I2"
      },
      "source": [
        "**Diseña un algoritmo para resolver el problema por fuerza bruta**"
      ]
    },
    {
      "cell_type": "markdown",
      "metadata": {
        "id": "70rDgxYXkC8r"
      },
      "source": [
        "**Respuesta**"
      ]
    },
    {
      "cell_type": "code",
      "metadata": {
        "id": "CJb5sQ0qkENy"
      },
      "source": [],
      "execution_count": null,
      "outputs": []
    },
    {
      "cell_type": "markdown",
      "metadata": {
        "id": "tgrnsC2nkFa8"
      },
      "source": [
        "**Calcula la complejidad del algoritmo por fuerza bruta**"
      ]
    },
    {
      "cell_type": "markdown",
      "metadata": {
        "id": "9eUd3xwckP68"
      },
      "source": [
        "**Respuesta**"
      ]
    },
    {
      "cell_type": "code",
      "metadata": {
        "id": "rvZWwL-ckRST",
        "colab": {
          "base_uri": "https://localhost:8080/"
        },
        "outputId": "1866ce3c-582b-49b4-8285-190fa99bfd8b"
      },
      "source": [
        "numbers = '123456789'\n",
        "operations = '+-*/'\n",
        "\n",
        "mayor, menor = 0, 0\n",
        "for n0 in numbers:\n",
        "  numbers0 = numbers.replace(n0, \"\")\n",
        "  for n1 in numbers0:\n",
        "    numbers1 = numbers0.replace(n1, \"\")\n",
        "    for n2 in numbers1:\n",
        "      numbers2 = numbers1.replace(n2, \"\")\n",
        "      for n3 in numbers2:\n",
        "        numbers3 = numbers2.replace(n3, \"\")\n",
        "        for n4 in numbers3:\n",
        "          for o0 in operations:\n",
        "            operations0 = operations.replace(o0, \"\")\n",
        "            for o1 in operations0:\n",
        "              operations1 = operations0.replace(o1, \"\")\n",
        "              for o2 in operations1:\n",
        "                operations2 = operations1.replace(o2, \"\")\n",
        "                for o3 in operations2:\n",
        "                  expresion = n0+o0+n1+o1+n2+o2+n3+o3+n4\n",
        "                  sol = eval(expresion)\n",
        "                  if sol.is_integer():\n",
        "                    if sol > mayor:\n",
        "                      mayor = sol\n",
        "                    if sol < menor:\n",
        "                      menor = sol\n",
        "\n",
        "print(mayor, menor)"
      ],
      "execution_count": 3,
      "outputs": [
        {
          "output_type": "stream",
          "name": "stdout",
          "text": [
            "77.0 -69.0\n"
          ]
        }
      ]
    },
    {
      "cell_type": "markdown",
      "metadata": {
        "id": "txbrmLmskReM"
      },
      "source": [
        "**(*)Diseña un algoritmo que mejore la complejidad del algortimo por fuerza bruta. Argumenta porque crees que mejora el algoritmo por fuerza bruta.**"
      ]
    },
    {
      "cell_type": "markdown",
      "metadata": {
        "id": "hLrVwt5QkZPD"
      },
      "source": [
        "**Respuesta**"
      ]
    },
    {
      "cell_type": "code",
      "metadata": {
        "id": "m1eyM21Vkabg",
        "colab": {
          "base_uri": "https://localhost:8080/"
        },
        "outputId": "8eda9226-529b-4444-f656-7dee236118f2"
      },
      "source": [
        "\n",
        "import numpy as np\n",
        "\n",
        "numbers = list('123456789')\n",
        "operations = list('+-*/')\n",
        "\n",
        "# Define la población inicial de soluciones aleatorias\n",
        "def create_population(num_individuals):\n",
        "    population = []\n",
        "    for i in range(num_individuals):\n",
        "      numbers_copy = numbers.copy()\n",
        "      operations_copy = operations.copy()\n",
        "      np.random.shuffle(numbers_copy)\n",
        "      np.random.shuffle(operations_copy)\n",
        "      population.append([numbers_copy[4:], operations_copy])\n",
        "    return population\n",
        "\n",
        "# Evalúa la adecuación de una solución para el problema\n",
        "def evaluate_population(population, target):\n",
        "  for individuo in population:\n",
        "    equation = str(individuo[0][0] + individuo[1][0] + individuo[0][1] + individuo[1][1] + individuo[0][2] + individuo[1][2] + individuo[0][3] + individuo[1][3] + individuo[0][4])\n",
        "    result = round(eval(equation),2)\n",
        "    error = round(abs(target - result),2)\n",
        "    individuo.append([result])\n",
        "    individuo.append([error])\n",
        "\n",
        "  sorted_population = sorted(population, key=lambda x: x[3]) # Ordenamos los individuos según el error cometido\n",
        "  return sorted_population\n",
        "\n",
        "# Selecciona los individuos de la población para el cruce\n",
        "def select_parents(population, n_parents):\n",
        "    \n",
        "    # Genera una lista de probabilidades ponderadas\n",
        "    weights = []\n",
        "    for i in range(len(population)):\n",
        "      if i <= int(len(population) * 0.5):\n",
        "        p = 0.5\n",
        "      if int(len(population) * 0.5) < i <= int(len(population) * 0.85):\n",
        "        p = 0.33\n",
        "      if i > int(len(population) * 0.85):\n",
        "        p = 0.17  \n",
        "      weights.append(p)\n",
        "    \n",
        "    # Normalizo la probabilad a 1\n",
        "    weights = np.array(weights)\n",
        "    weights /= weights.sum()\n",
        "    # print(np.array(weights).sum())\n",
        "    random_choice = np.random.choice(np.arange(0,len(population)), size=n_parents, p=weights) # Selecciona n elementos de la lista con probabilidades ponderadas \n",
        "    parents = [population[i] for i in random_choice]\n",
        "    return parents\n",
        "\n",
        "# Realizar el cruze entre la población dada\n",
        "def parents_cross(parents):\n",
        "  cross = []\n",
        "  for i in range(0, len(parents), 2):\n",
        "    cross1 = [parents[i][0], parents[i+1][1]]\n",
        "    cross2 = [parents[i+1][0], parents[i][1]]\n",
        "    cross.append(cross1)\n",
        "    cross.append(cross2)\n",
        "  return cross  \n",
        "\n",
        "# Realiza una mutación a la población dada\n",
        "def child_mutation(population):\n",
        "  mutations = []\n",
        "  for child in population:\n",
        "    numbers = child[0].copy()\n",
        "    operations = child[1].copy()\n",
        "\n",
        "    # # Mutacion intercambiando dos numeros\n",
        "    # a, b = np.random.randint(0,5), np.random.randint(0,5) \n",
        "    # numbers[a], numbers[b] = numbers[b], numbers[a] \n",
        "    # mutation = [numbers, operations]\n",
        "\n",
        "    # Mutacion introduciendo un número aleatorio\n",
        "    a = np.random.randint(1,9)\n",
        "    if (str(a) not in numbers):\n",
        "      # print(a, numbers)\n",
        "      numbers[-1] = str(a)\n",
        "    # print(child, mutation)\n",
        "    mutation = [numbers, operations]\n",
        "    mutations.append(mutation)\n",
        "  return mutations\n",
        "\n",
        "# Selecciono los individuos que van a pasar a la siguiente generacion\n",
        "def next_generation(population, cross, mutations, target):\n",
        "\n",
        "  # Uno en una poblacion los individuos de cross y de mutations\n",
        "  cross_mutation = cross.copy()\n",
        "  cross_mutation.extend(mutations)\n",
        "  # print(len(cross_mutation),len(cross))\n",
        "\n",
        "  # Evaluo a dichos individuos\n",
        "  evaluate_population(cross_mutation, target)\n",
        "  # print(cross_mutation)\n",
        "\n",
        "  # Junto a todos en una sola poblacion y me quedo con los 100 mejores\n",
        "  next_gen = population.copy()\n",
        "  next_gen.extend(cross_mutation)\n",
        "  next_gen_sorted = sorted(next_gen, key=lambda x: x[3]) # Ordenamos los individuos según el error cometido\n",
        "  # display(next_gen_sorted[:100])\n",
        "  # print(len(next_gen_sorted))\n",
        "  return next_gen_sorted[:len(population)]\n",
        "\n",
        "\n",
        "def number_search_genetic(n_individuals, target, n_generations):\n",
        "\n",
        "    # Generamos la población inicial\n",
        "    population = create_population(n_individuals)\n",
        "    population = evaluate_population(population, target)\n",
        "    # display(population[:][0])\n",
        "    next_gen = population\n",
        "\n",
        "    sol = False \n",
        "\n",
        "    for individual in population:\n",
        "      if individual[3] == [0.0]:\n",
        "        numeros = individual[0]\n",
        "        operators = individual[1]\n",
        "        expresion = numeros[0] + operators[0] + numeros[1] + operators[1] + numeros[2] + operators[2] + numeros[3] + operators[3] + numeros[4]\n",
        "        # print('La solución inicial es:', expresion)\n",
        "        sol = True\n",
        "        return (eval(expresion))\n",
        "        # print(population)\n",
        "   \n",
        "    if not(sol):\n",
        "      for i in range(n_generations): \n",
        "        # print('--- Calculando la generación:', i)\n",
        "        parents = select_parents(next_gen, int(n_individuals))\n",
        "        # print(parents[:][3])\n",
        "        cross = parents_cross(parents)\n",
        "        mutations = child_mutation(cross)\n",
        "        # # print(childs[0],mutations[0])\n",
        "        next_gen = next_generation(next_gen, cross, mutations, target)\n",
        "        # display(next_gen[:][0:5])\n",
        "        if next_gen[0][3] == [0.0]:\n",
        "          # display(next_gen[:][0])\n",
        "          numeros = (next_gen[0][0])\n",
        "          operators = (next_gen[0][1])\n",
        "          expresion = numeros[0] + operators[0] + numeros[1] + operators[1] + numeros[2] + operators[2] + numeros[3] + operators[3] + numeros[4]\n",
        "          # print('La solución es:', expresion)\n",
        "          return (eval(expresion)) \n",
        "    # display(population)\n",
        "      # display(next_gen[:][0:10])\n",
        "\n",
        "number_search_genetic(1000, 77, 200)\n",
        "\n",
        "for i in range(-69, 78):\n",
        "  \n",
        "  print(number_search_genetic(5000, i, 200))"
      ],
      "execution_count": 28,
      "outputs": [
        {
          "output_type": "stream",
          "name": "stdout",
          "text": [
            "-69.0\n",
            "-68.0\n",
            "-67.0\n",
            "-66.0\n",
            "-65.0\n",
            "-64.0\n",
            "-63.0\n",
            "-62.0\n",
            "-61.0\n",
            "-60.0\n",
            "-59.0\n",
            "-58.0\n",
            "-57.0\n",
            "-56.0\n",
            "-55.0\n",
            "-54.0\n",
            "-53.0\n",
            "-52.0\n",
            "-51.0\n",
            "-50.0\n",
            "-49.0\n",
            "-48.0\n",
            "-47.0\n",
            "-46.0\n",
            "-45.0\n",
            "-44.0\n",
            "-43.0\n",
            "-42.0\n",
            "-41.0\n",
            "-40.0\n",
            "-39.0\n",
            "-38.0\n",
            "-37.0\n",
            "-36.0\n",
            "-35.0\n",
            "-34.0\n",
            "-33.0\n",
            "-32.0\n",
            "-31.0\n",
            "-30.0\n",
            "-29.0\n",
            "-28.0\n",
            "-27.0\n",
            "-26.0\n",
            "-25.0\n",
            "-24.0\n",
            "-23.0\n",
            "-22.0\n",
            "-21.0\n",
            "-20.0\n",
            "-19.0\n",
            "-18.0\n",
            "-17.0\n",
            "-16.0\n",
            "-15.0\n",
            "-14.0\n",
            "-13.0\n",
            "-12.0\n",
            "-11.0\n",
            "-10.0\n",
            "-9.0\n",
            "-8.0\n",
            "-7.0\n",
            "-6.0\n",
            "-5.0\n",
            "-4.0\n",
            "-3.0\n",
            "-2.0\n",
            "-1.0\n",
            "0.0\n",
            "1.0\n",
            "2.0\n",
            "3.0\n",
            "4.0\n",
            "5.0\n",
            "6.0\n",
            "7.0\n",
            "8.0\n",
            "9.0\n",
            "10.0\n",
            "11.0\n",
            "12.0\n",
            "13.0\n",
            "14.0\n",
            "15.0\n",
            "16.0\n",
            "17.0\n",
            "18.0\n",
            "19.0\n",
            "20.0\n",
            "21.0\n",
            "22.0\n",
            "23.0\n",
            "24.0\n",
            "25.0\n",
            "26.0\n",
            "27.0\n",
            "28.0\n",
            "29.0\n",
            "30.0\n",
            "31.0\n",
            "32.0\n",
            "33.0\n",
            "34.0\n",
            "35.0\n",
            "36.0\n",
            "37.0\n",
            "38.0\n",
            "39.0\n",
            "40.0\n",
            "41.0\n",
            "42.0\n",
            "43.0\n",
            "44.0\n",
            "45.0\n",
            "46.0\n",
            "47.0\n",
            "48.0\n",
            "49.0\n",
            "50.0\n",
            "51.0\n",
            "52.0\n",
            "53.0\n",
            "54.0\n",
            "55.0\n",
            "56.0\n",
            "57.0\n",
            "58.0\n",
            "59.0\n",
            "60.0\n",
            "61.0\n",
            "62.0\n",
            "63.0\n",
            "64.0\n",
            "65.0\n",
            "66.0\n",
            "67.0\n",
            "68.0\n",
            "69.0\n",
            "70.0\n",
            "71.0\n",
            "72.0\n",
            "73.0\n",
            "74.0\n",
            "75.0\n",
            "76.0\n",
            "77.0\n"
          ]
        }
      ]
    },
    {
      "cell_type": "markdown",
      "metadata": {
        "id": "eGDB4K6uk1iN"
      },
      "source": [
        "**(*)Calcula la complejidad del algoritmo.**"
      ]
    },
    {
      "cell_type": "markdown",
      "metadata": {
        "id": "NhpTh_BPk1ms"
      },
      "source": [
        "**Respuesta**"
      ]
    },
    {
      "cell_type": "code",
      "metadata": {
        "id": "nREzhkStlCq8"
      },
      "source": [],
      "execution_count": null,
      "outputs": []
    },
    {
      "cell_type": "markdown",
      "metadata": {
        "id": "3M6QjTsSkmYe"
      },
      "source": [
        "**Según el problema (y tenga sentido), diseña un juego de datos de entrada aleatorios**"
      ]
    },
    {
      "cell_type": "markdown",
      "metadata": {
        "id": "Jc3_OlyNkvjZ"
      },
      "source": [
        "**Respuesta**"
      ]
    },
    {
      "cell_type": "code",
      "metadata": {
        "id": "sJ-N2etjkyWc"
      },
      "source": [],
      "execution_count": null,
      "outputs": []
    },
    {
      "cell_type": "markdown",
      "metadata": {
        "id": "zy5ZROmjlGo1"
      },
      "source": [
        "**Aplica el algoritmo al juego de datos generado**"
      ]
    },
    {
      "cell_type": "markdown",
      "metadata": {
        "id": "_Cmj-PVylMsa"
      },
      "source": [
        "**Respuesta**"
      ]
    },
    {
      "cell_type": "code",
      "metadata": {
        "id": "Jkx8GeiYlUz1"
      },
      "source": [],
      "execution_count": null,
      "outputs": []
    },
    {
      "cell_type": "markdown",
      "metadata": {
        "id": "eTFWUJQrtGcv"
      },
      "source": [
        "**Enumera las referencias que has utilizado(si ha sido necesario) para llevar a cabo el trabajo**"
      ]
    },
    {
      "cell_type": "markdown",
      "metadata": {
        "id": "YKQ_mRBttWsP"
      },
      "source": [
        "**Respuesta**"
      ]
    },
    {
      "cell_type": "markdown",
      "metadata": {
        "id": "kAkDPUyRtYyH"
      },
      "source": [
        "**Describe brevemente las lineas de como crees que es posible avanzar en el estudio del problema. Ten en cuenta incluso posibles variaciones del problema y/o variaciones al alza del tamaño**"
      ]
    },
    {
      "cell_type": "markdown",
      "metadata": {
        "id": "IE0uZmo-tZu-"
      },
      "source": [
        "**Respuesta**"
      ]
    }
  ]
}