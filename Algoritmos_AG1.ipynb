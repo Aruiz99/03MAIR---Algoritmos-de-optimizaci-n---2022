{
  "nbformat": 4,
  "nbformat_minor": 0,
  "metadata": {
    "colab": {
      "provenance": [],
      "authorship_tag": "ABX9TyMaBIGL2cH8V3utfg2fNVxY",
      "include_colab_link": true
    },
    "kernelspec": {
      "name": "python3",
      "display_name": "Python 3"
    },
    "language_info": {
      "name": "python"
    }
  },
  "cells": [
    {
      "cell_type": "markdown",
      "metadata": {
        "id": "view-in-github",
        "colab_type": "text"
      },
      "source": [
        "<a href=\"https://colab.research.google.com/github/Aruiz99/03MAIR---Algoritmos-de-optimizacion---2022/blob/main/Algoritmos_AG1.ipynb\" target=\"_parent\"><img src=\"https://colab.research.google.com/assets/colab-badge.svg\" alt=\"Open In Colab\"/></a>"
      ]
    },
    {
      "cell_type": "markdown",
      "source": [
        "Nombre: Alberto Ruiz Rancaño <br>\n",
        "Link: https://colab.research.google.com/drive/1J5p-iH7eR7DyEdP0EDA0-Ue4jFaQOyFT?usp=sharing <br>\n",
        "Github: https://github.com/Aruiz99/03MAIR---Algoritmos-de-optimizacion---2022\n"
      ],
      "metadata": {
        "id": "Dxz9q_EyyMc_"
      }
    },
    {
      "cell_type": "code",
      "source": [
        "# Torres de Hanoi\n",
        "def torres_hanoi(N, origen, destino):\n",
        "\n",
        "  # N = nº de fichas\n",
        "  # origen = nº de poste desde\n",
        "  # destino = nº de poste hasta\n",
        "\n",
        "  if N==1 :\n",
        "    print(\"Lleva la ficha desde \" + str(origen) + \" hasta \" + str(destino))\n",
        "\n",
        "  else:\n",
        "    torres_hanoi(N-1, origen, 6-origen-destino)\n",
        "    print(\"Lleva la ficha desde \" + str(origen) + \" hasta \" + str(destino))\n",
        "    torres_hanoi(N-1, 6-origen-destino,  destino)\n",
        "\n",
        "torres_hanoi(1, 1, 3)"
      ],
      "metadata": {
        "colab": {
          "base_uri": "https://localhost:8080/"
        },
        "id": "DKa0gyKg5uO_",
        "outputId": "52b1fa05-245c-4593-a8ad-8798a07df994"
      },
      "execution_count": null,
      "outputs": [
        {
          "output_type": "stream",
          "name": "stdout",
          "text": [
            "Lleva la ficha desde 1 hasta 3\n"
          ]
        }
      ]
    },
    {
      "cell_type": "code",
      "source": [
        "# Cambio de monedas\n",
        "def cambio_monedas(cantidad, sistema_monetario):\n",
        "    \n",
        "  # Inicializamos las variables y ordenamos de mayor a menor el s.monetario\n",
        "  sistema_monetario.sort(reverse = True)\n",
        "  solucion = {}\n",
        "\n",
        "  for moneda in sistema_monetario:\n",
        "    n_monedas = cantidad // moneda\n",
        "    solucion[moneda] = n_monedas\n",
        "    cantidad -= moneda * n_monedas\n",
        "    if cantidad == 0:\n",
        "      return solucion\n",
        "\n",
        "cambio_monedas(119, [3, 5, 10, 1])\n"
      ],
      "metadata": {
        "colab": {
          "base_uri": "https://localhost:8080/"
        },
        "id": "GPLWvBAQH9VE",
        "outputId": "061f0c90-9471-49a2-9d11-b0eb1db120fe"
      },
      "execution_count": null,
      "outputs": [
        {
          "output_type": "execute_result",
          "data": {
            "text/plain": [
              "{10: 11, 5: 1, 3: 1, 1: 1}"
            ]
          },
          "metadata": {},
          "execution_count": 44
        }
      ]
    },
    {
      "cell_type": "code",
      "source": [
        "#N Reinas - Vuelta Atrás()\n",
        "################################################################################\n",
        "\n",
        "#Verifica que en la solución parcial no hay amenzas entre reinas\n",
        "################################################################\n",
        "def es_prometedora(SOLUCION,etapa):\n",
        "################################################################\n",
        "  #print(SOLUCION)\n",
        "  #Si la solución tiene dos valores iguales no es valida => Dos reinas en la misma fila\n",
        "  for i in range(etapa+1):\n",
        "    #print(\"El valor \" + str(SOLUCION[i]) + \" está \" +  str(SOLUCION.count(SOLUCION[i])) + \" veces\")\n",
        "    if SOLUCION.count(SOLUCION[i]) > 1:       \n",
        "      return False\n",
        "  \n",
        "    #Verifica las diagonales\n",
        "    for j in range(i+1, etapa +1 ):\n",
        "      #print(\"Comprobando diagonal de \" + str(i) + \" y \" + str(j))\n",
        "      if abs(i-j) == abs(SOLUCION[i]-SOLUCION[j]) : return False\n",
        "  return True\n",
        "\n",
        "#Traduce la solución al tablero\n",
        "################################################################\n",
        "def escribe_solucion(S):\n",
        "################################################################\n",
        "  n = len(S)\n",
        "  for x in range(n):\n",
        "    print(\"\")\n",
        "    for i in range(n):\n",
        "      if S[i] == x+1:\n",
        "        print(\" X \" , end=\"\")\n",
        "      else:\n",
        "        print(\" - \", end=\"\")\n",
        "\n",
        "\n",
        "\n",
        "#Proceso principal de N-Reinas\n",
        "################################################################\n",
        "def reinas(N, solucion=[],etapa=0): \n",
        "################################################################\n",
        "### ....\n",
        "  if len(solucion) == 0:         # [0,0,0...]\n",
        "    solucion = [0 for i in range(N) ]\n",
        "  \n",
        "  for i in range(1, N+1):\n",
        "    solucion[etapa] = i\n",
        "    if es_prometedora(solucion, etapa):\n",
        "      if etapa == N-1:\n",
        "        print(solucion)\n",
        "      else:  \n",
        "        reinas(N, solucion, etapa+1)\n",
        "    else:\n",
        "      None\n",
        "  \n",
        "  solucion[etapa] = 0\n",
        "\n",
        "reinas(4,solucion=[],etapa=0)"
      ],
      "metadata": {
        "colab": {
          "base_uri": "https://localhost:8080/"
        },
        "id": "Arrfgi5fAG8j",
        "outputId": "f7737a72-4b21-47fb-d74f-2965e362c777"
      },
      "execution_count": null,
      "outputs": [
        {
          "output_type": "stream",
          "name": "stdout",
          "text": [
            "[2, 4, 1, 3]\n",
            "[3, 1, 4, 2]\n"
          ]
        }
      ]
    },
    {
      "cell_type": "code",
      "source": [
        "escribe_solucion([2, 4, 1, 3])"
      ],
      "metadata": {
        "colab": {
          "base_uri": "https://localhost:8080/"
        },
        "id": "-Xtji_5UAJUV",
        "outputId": "c7b83166-8e3f-4b32-931e-da7189993510"
      },
      "execution_count": null,
      "outputs": [
        {
          "output_type": "stream",
          "name": "stdout",
          "text": [
            "\n",
            " -  -  X  - \n",
            " X  -  -  - \n",
            " -  -  -  X \n",
            " -  X  -  - "
          ]
        }
      ]
    }
  ]
}